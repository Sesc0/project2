{
 "cells": [
  {
   "cell_type": "code",
   "execution_count": 22,
   "metadata": {},
   "outputs": [],
   "source": [
    "import pandas as pd\n",
    "import quandl"
   ]
  },
  {
   "cell_type": "code",
   "execution_count": 23,
   "metadata": {},
   "outputs": [],
   "source": [
    "stock_market_confidence_indices = quandl.get(\"YALE/US_CONF_INDEX_CRASH_INST\")\n",
    "us_treasury_long_term_rates = quandl.get(\"USTREASURY/REALLONGTERM\", authtoken=\"yJcjsffiR2vsG79sQqj1\")\n",
    "emerging_markets_high_yield_corporate_bond_index_yield = quandl.get(\"ML/EMHYY\", authtoken=\"yJcjsffiR2vsG79sQqj1\")\n",
    "united_kingdom_spot_exchange_rate = quandl.get(\"FED/RXI_US_N_A_UK\", authtoken=\"yJcjsffiR2vsG79sQqj1\")\n",
    "dji = quandl.get(\"BCB/UDJIAD1\")\n",
    "treasury_real_yield_curve_rates = quandl.get(\"USTREASURY/REALYIELD\", authtoken=\"yJcjsffiR2vsG79sQqj1\")\n",
    "sp_500_inflation_adjusted = quandl.get(\"MULTPL/SP500_INFLADJ_MONTH\", authtoken=\"yJcjsffiR2vsG79sQqj1\")"
   ]
  },
  {
   "cell_type": "code",
   "execution_count": 31,
   "metadata": {},
   "outputs": [
    {
     "data": {
      "text/html": [
       "<div>\n",
       "<style scoped>\n",
       "    .dataframe tbody tr th:only-of-type {\n",
       "        vertical-align: middle;\n",
       "    }\n",
       "\n",
       "    .dataframe tbody tr th {\n",
       "        vertical-align: top;\n",
       "    }\n",
       "\n",
       "    .dataframe thead th {\n",
       "        text-align: right;\n",
       "    }\n",
       "</style>\n",
       "<table border=\"1\" class=\"dataframe\">\n",
       "  <thead>\n",
       "    <tr style=\"text-align: right;\">\n",
       "      <th></th>\n",
       "      <th>Value</th>\n",
       "    </tr>\n",
       "    <tr>\n",
       "      <th>Date</th>\n",
       "      <th></th>\n",
       "    </tr>\n",
       "  </thead>\n",
       "  <tbody>\n",
       "    <tr>\n",
       "      <th>1871-01-01</th>\n",
       "      <td>95.93</td>\n",
       "    </tr>\n",
       "    <tr>\n",
       "      <th>1871-02-01</th>\n",
       "      <td>94.34</td>\n",
       "    </tr>\n",
       "    <tr>\n",
       "      <th>1871-03-01</th>\n",
       "      <td>95.24</td>\n",
       "    </tr>\n",
       "    <tr>\n",
       "      <th>1871-04-01</th>\n",
       "      <td>101.59</td>\n",
       "    </tr>\n",
       "    <tr>\n",
       "      <th>1871-05-01</th>\n",
       "      <td>106.62</td>\n",
       "    </tr>\n",
       "    <tr>\n",
       "      <th>...</th>\n",
       "      <td>...</td>\n",
       "    </tr>\n",
       "    <tr>\n",
       "      <th>2021-04-30</th>\n",
       "      <td>4181.17</td>\n",
       "    </tr>\n",
       "    <tr>\n",
       "      <th>2021-05-01</th>\n",
       "      <td>4167.85</td>\n",
       "    </tr>\n",
       "    <tr>\n",
       "      <th>2021-06-01</th>\n",
       "      <td>4238.49</td>\n",
       "    </tr>\n",
       "    <tr>\n",
       "      <th>2021-06-30</th>\n",
       "      <td>4297.50</td>\n",
       "    </tr>\n",
       "    <tr>\n",
       "      <th>2021-07-01</th>\n",
       "      <td>4319.94</td>\n",
       "    </tr>\n",
       "  </tbody>\n",
       "</table>\n",
       "<p>1822 rows × 1 columns</p>\n",
       "</div>"
      ],
      "text/plain": [
       "              Value\n",
       "Date               \n",
       "1871-01-01    95.93\n",
       "1871-02-01    94.34\n",
       "1871-03-01    95.24\n",
       "1871-04-01   101.59\n",
       "1871-05-01   106.62\n",
       "...             ...\n",
       "2021-04-30  4181.17\n",
       "2021-05-01  4167.85\n",
       "2021-06-01  4238.49\n",
       "2021-06-30  4297.50\n",
       "2021-07-01  4319.94\n",
       "\n",
       "[1822 rows x 1 columns]"
      ]
     },
     "execution_count": 31,
     "metadata": {},
     "output_type": "execute_result"
    }
   ],
   "source": [
    "sp_500_inflation_adjusted"
   ]
  },
  {
   "cell_type": "code",
   "execution_count": 35,
   "metadata": {},
   "outputs": [
    {
     "data": {
      "text/html": [
       "<div>\n",
       "<style scoped>\n",
       "    .dataframe tbody tr th:only-of-type {\n",
       "        vertical-align: middle;\n",
       "    }\n",
       "\n",
       "    .dataframe tbody tr th {\n",
       "        vertical-align: top;\n",
       "    }\n",
       "\n",
       "    .dataframe thead th {\n",
       "        text-align: right;\n",
       "    }\n",
       "</style>\n",
       "<table border=\"1\" class=\"dataframe\">\n",
       "  <thead>\n",
       "    <tr style=\"text-align: right;\">\n",
       "      <th></th>\n",
       "      <th>Index Value</th>\n",
       "      <th>Standard Error</th>\n",
       "      <th>LT Real Average (&gt;10Yrs)</th>\n",
       "    </tr>\n",
       "    <tr>\n",
       "      <th>Date</th>\n",
       "      <th></th>\n",
       "      <th></th>\n",
       "      <th></th>\n",
       "    </tr>\n",
       "  </thead>\n",
       "  <tbody>\n",
       "    <tr>\n",
       "      <th>1989-10-31</th>\n",
       "      <td>36.99</td>\n",
       "      <td>4.00</td>\n",
       "      <td>NaN</td>\n",
       "    </tr>\n",
       "    <tr>\n",
       "      <th>1990-04-30</th>\n",
       "      <td>25.76</td>\n",
       "      <td>3.81</td>\n",
       "      <td>NaN</td>\n",
       "    </tr>\n",
       "    <tr>\n",
       "      <th>1990-10-31</th>\n",
       "      <td>18.25</td>\n",
       "      <td>3.30</td>\n",
       "      <td>NaN</td>\n",
       "    </tr>\n",
       "    <tr>\n",
       "      <th>1991-04-30</th>\n",
       "      <td>31.58</td>\n",
       "      <td>4.03</td>\n",
       "      <td>NaN</td>\n",
       "    </tr>\n",
       "    <tr>\n",
       "      <th>1991-10-31</th>\n",
       "      <td>37.18</td>\n",
       "      <td>3.87</td>\n",
       "      <td>NaN</td>\n",
       "    </tr>\n",
       "    <tr>\n",
       "      <th>...</th>\n",
       "      <td>...</td>\n",
       "      <td>...</td>\n",
       "      <td>...</td>\n",
       "    </tr>\n",
       "    <tr>\n",
       "      <th>2021-06-28</th>\n",
       "      <td>NaN</td>\n",
       "      <td>NaN</td>\n",
       "      <td>-0.28</td>\n",
       "    </tr>\n",
       "    <tr>\n",
       "      <th>2021-06-29</th>\n",
       "      <td>NaN</td>\n",
       "      <td>NaN</td>\n",
       "      <td>-0.27</td>\n",
       "    </tr>\n",
       "    <tr>\n",
       "      <th>2021-06-30</th>\n",
       "      <td>NaN</td>\n",
       "      <td>NaN</td>\n",
       "      <td>-0.30</td>\n",
       "    </tr>\n",
       "    <tr>\n",
       "      <th>2021-07-01</th>\n",
       "      <td>NaN</td>\n",
       "      <td>NaN</td>\n",
       "      <td>-0.30</td>\n",
       "    </tr>\n",
       "    <tr>\n",
       "      <th>2021-07-02</th>\n",
       "      <td>NaN</td>\n",
       "      <td>NaN</td>\n",
       "      <td>-0.32</td>\n",
       "    </tr>\n",
       "  </tbody>\n",
       "</table>\n",
       "<p>5643 rows × 3 columns</p>\n",
       "</div>"
      ],
      "text/plain": [
       "            Index Value  Standard Error  LT Real Average (>10Yrs)\n",
       "Date                                                             \n",
       "1989-10-31        36.99            4.00                       NaN\n",
       "1990-04-30        25.76            3.81                       NaN\n",
       "1990-10-31        18.25            3.30                       NaN\n",
       "1991-04-30        31.58            4.03                       NaN\n",
       "1991-10-31        37.18            3.87                       NaN\n",
       "...                 ...             ...                       ...\n",
       "2021-06-28          NaN             NaN                     -0.28\n",
       "2021-06-29          NaN             NaN                     -0.27\n",
       "2021-06-30          NaN             NaN                     -0.30\n",
       "2021-07-01          NaN             NaN                     -0.30\n",
       "2021-07-02          NaN             NaN                     -0.32\n",
       "\n",
       "[5643 rows x 3 columns]"
      ]
     },
     "execution_count": 35,
     "metadata": {},
     "output_type": "execute_result"
    }
   ],
   "source": [
    "df = pd.concat([stock_market_confidence_indices,us_treasury_long_term_rates])\n",
    "df"
   ]
  },
  {
   "cell_type": "code",
   "execution_count": 19,
   "metadata": {},
   "outputs": [
    {
     "data": {
      "text/plain": [
       "'s&p_500_inflation_adjusted'"
      ]
     },
     "execution_count": 19,
     "metadata": {},
     "output_type": "execute_result"
    }
   ],
   "source": [
    "p = \"S&P 500 Inflation Adjusted\".replace(\" \",\"_\").lower()\n",
    "p"
   ]
  },
  {
   "cell_type": "code",
   "execution_count": 11,
   "metadata": {},
   "outputs": [
    {
     "data": {
      "text/plain": [
       "'emerging_markets_high_yield_corporate_bond_index_yield'"
      ]
     },
     "execution_count": 11,
     "metadata": {},
     "output_type": "execute_result"
    }
   ],
   "source": [
    "p"
   ]
  },
  {
   "cell_type": "code",
   "execution_count": null,
   "metadata": {},
   "outputs": [],
   "source": []
  }
 ],
 "metadata": {
  "kernelspec": {
   "display_name": "Python 3",
   "language": "python",
   "name": "python3"
  },
  "language_info": {
   "codemirror_mode": {
    "name": "ipython",
    "version": 3
   },
   "file_extension": ".py",
   "mimetype": "text/x-python",
   "name": "python",
   "nbconvert_exporter": "python",
   "pygments_lexer": "ipython3",
   "version": "3.7.9"
  }
 },
 "nbformat": 4,
 "nbformat_minor": 4
}
