{
 "cells": [
  {
   "cell_type": "code",
   "execution_count": 2,
   "metadata": {},
   "outputs": [],
   "source": [
    "import pandas as pd\n",
    "import quandl\n",
    "from pathlib import Path\n",
    "import matplotlib.pyplot as plt\n",
    "from full_fred.fred import Fred"
   ]
  },
  {
   "cell_type": "code",
   "execution_count": 3,
   "metadata": {},
   "outputs": [],
   "source": [
    "path = r\"Download Data - INDEX_US_DOW JONES GLOBAL_DJIA_2.csv\"\n",
    "api_keys = r\"fred api key.txt\""
   ]
  },
  {
   "cell_type": "code",
   "execution_count": 4,
   "metadata": {},
   "outputs": [
    {
     "data": {
      "text/plain": [
       "'fred api key.txt'"
      ]
     },
     "execution_count": 4,
     "metadata": {},
     "output_type": "execute_result"
    }
   ],
   "source": [
    "fred = Fred(api_keys)\n",
    "fred.get_api_key_file()"
   ]
  },
  {
   "cell_type": "code",
   "execution_count": 5,
   "metadata": {},
   "outputs": [
    {
     "data": {
      "text/html": [
       "<div>\n",
       "<style scoped>\n",
       "    .dataframe tbody tr th:only-of-type {\n",
       "        vertical-align: middle;\n",
       "    }\n",
       "\n",
       "    .dataframe tbody tr th {\n",
       "        vertical-align: top;\n",
       "    }\n",
       "\n",
       "    .dataframe thead th {\n",
       "        text-align: right;\n",
       "    }\n",
       "</style>\n",
       "<table border=\"1\" class=\"dataframe\">\n",
       "  <thead>\n",
       "    <tr style=\"text-align: right;\">\n",
       "      <th></th>\n",
       "      <th>realtime_start</th>\n",
       "      <th>realtime_end</th>\n",
       "      <th>value</th>\n",
       "    </tr>\n",
       "    <tr>\n",
       "      <th>date</th>\n",
       "      <th></th>\n",
       "      <th></th>\n",
       "      <th></th>\n",
       "    </tr>\n",
       "  </thead>\n",
       "  <tbody>\n",
       "    <tr>\n",
       "      <th>2011-07-15</th>\n",
       "      <td>2021-07-14</td>\n",
       "      <td>2021-07-14</td>\n",
       "      <td>12479.73</td>\n",
       "    </tr>\n",
       "    <tr>\n",
       "      <th>2011-07-18</th>\n",
       "      <td>2021-07-14</td>\n",
       "      <td>2021-07-14</td>\n",
       "      <td>12385.16</td>\n",
       "    </tr>\n",
       "    <tr>\n",
       "      <th>2011-07-19</th>\n",
       "      <td>2021-07-14</td>\n",
       "      <td>2021-07-14</td>\n",
       "      <td>12587.42</td>\n",
       "    </tr>\n",
       "    <tr>\n",
       "      <th>2011-07-20</th>\n",
       "      <td>2021-07-14</td>\n",
       "      <td>2021-07-14</td>\n",
       "      <td>12571.91</td>\n",
       "    </tr>\n",
       "    <tr>\n",
       "      <th>2011-07-21</th>\n",
       "      <td>2021-07-14</td>\n",
       "      <td>2021-07-14</td>\n",
       "      <td>12724.41</td>\n",
       "    </tr>\n",
       "    <tr>\n",
       "      <th>...</th>\n",
       "      <td>...</td>\n",
       "      <td>...</td>\n",
       "      <td>...</td>\n",
       "    </tr>\n",
       "    <tr>\n",
       "      <th>2021-07-08</th>\n",
       "      <td>2021-07-14</td>\n",
       "      <td>2021-07-14</td>\n",
       "      <td>34421.93</td>\n",
       "    </tr>\n",
       "    <tr>\n",
       "      <th>2021-07-09</th>\n",
       "      <td>2021-07-14</td>\n",
       "      <td>2021-07-14</td>\n",
       "      <td>34870.16</td>\n",
       "    </tr>\n",
       "    <tr>\n",
       "      <th>2021-07-12</th>\n",
       "      <td>2021-07-14</td>\n",
       "      <td>2021-07-14</td>\n",
       "      <td>34996.18</td>\n",
       "    </tr>\n",
       "    <tr>\n",
       "      <th>2021-07-13</th>\n",
       "      <td>2021-07-14</td>\n",
       "      <td>2021-07-14</td>\n",
       "      <td>34888.79</td>\n",
       "    </tr>\n",
       "    <tr>\n",
       "      <th>2021-07-14</th>\n",
       "      <td>2021-07-14</td>\n",
       "      <td>2021-07-14</td>\n",
       "      <td>34933.23</td>\n",
       "    </tr>\n",
       "  </tbody>\n",
       "</table>\n",
       "<p>2609 rows × 3 columns</p>\n",
       "</div>"
      ],
      "text/plain": [
       "           realtime_start realtime_end     value\n",
       "date                                            \n",
       "2011-07-15     2021-07-14   2021-07-14  12479.73\n",
       "2011-07-18     2021-07-14   2021-07-14  12385.16\n",
       "2011-07-19     2021-07-14   2021-07-14  12587.42\n",
       "2011-07-20     2021-07-14   2021-07-14  12571.91\n",
       "2011-07-21     2021-07-14   2021-07-14  12724.41\n",
       "...                   ...          ...       ...\n",
       "2021-07-08     2021-07-14   2021-07-14  34421.93\n",
       "2021-07-09     2021-07-14   2021-07-14  34870.16\n",
       "2021-07-12     2021-07-14   2021-07-14  34996.18\n",
       "2021-07-13     2021-07-14   2021-07-14  34888.79\n",
       "2021-07-14     2021-07-14   2021-07-14  34933.23\n",
       "\n",
       "[2609 rows x 3 columns]"
      ]
     },
     "execution_count": 5,
     "metadata": {},
     "output_type": "execute_result"
    }
   ],
   "source": [
    "dow = fred.get_series_df('DJIA').set_index('date')\n",
    "dow.value = dow.value.replace(to_replace='.')\n",
    "dow.value = dow.value.apply(lambda x: float(x))\n",
    "dow"
   ]
  },
  {
   "cell_type": "code",
   "execution_count": 14,
   "metadata": {},
   "outputs": [],
   "source": [
    "stock_market_confidence_indices = quandl.get(\"YALE/US_CONF_INDEX_CRASH_INST\")\n",
    "stock_market_confidence_indices.drop(columns=\"Standard Error\")\n",
    "us_treasury = quandl.get(\"USTREASURY/YIELD\")\n",
    "us_treasury = us_treasury['10 YR'].to_frame()\n",
    "sp_500_inflation_adjusted = quandl.get(\"MULTPL/SP500_INFLADJ_MONTH\", authtoken=\"yJcjsffiR2vsG79sQqj1\")\n",
    "personal_consumption_expenditures = quandl.get(\"FRED/PCE\")\n",
    "gold = quandl.get(\"LBMA/GOLD\")"
   ]
  },
  {
   "cell_type": "code",
   "execution_count": 5,
   "metadata": {},
   "outputs": [],
   "source": [
    "us_treasury_long_term_rates = quandl.get(\"USTREASURY/REALLONGTERM\", authtoken=\"yJcjsffiR2vsG79sQqj1\")\n",
    "emerging_markets_high_yield_corporate_bond_index_yield = quandl.get(\"ML/EMHYY\", authtoken=\"yJcjsffiR2vsG79sQqj1\")\n",
    "united_kingdom_spot_exchange_rate = quandl.get(\"FED/RXI_US_N_A_UK\", authtoken=\"yJcjsffiR2vsG79sQqj1\")\n",
    "dji = quandl.get(\"BCB/UDJIAD1\")\n",
    "treasury_real_yield_curve_rates = quandl.get(\"USTREASURY/REALYIELD\", authtoken=\"yJcjsffiR2vsG79sQqj1\")\n",
    "sp_500_inflation_adjusted = quandl.get(\"MULTPL/SP500_INFLADJ_MONTH\", authtoken=\"yJcjsffiR2vsG79sQqj1\")\n",
    "personal_consumption_expenditures = quandl.get(\"FRED/PCE\")\n",
    "gold = quandl.get(\"LBMA/GOLD\")"
   ]
  },
  {
   "cell_type": "code",
   "execution_count": 6,
   "metadata": {},
   "outputs": [],
   "source": [
    "gold = gold['USD (AM)'].to_frame()"
   ]
  },
  {
   "cell_type": "code",
   "execution_count": 7,
   "metadata": {},
   "outputs": [],
   "source": []
  },
  {
   "cell_type": "code",
   "execution_count": 8,
   "metadata": {},
   "outputs": [],
   "source": [
    "stock_market_confidence_indices = stock_market_confidence_indices['Index Value'].to_frame()"
   ]
  },
  {
   "cell_type": "code",
   "execution_count": 9,
   "metadata": {},
   "outputs": [
    {
     "data": {
      "text/html": [
       "<div>\n",
       "<style scoped>\n",
       "    .dataframe tbody tr th:only-of-type {\n",
       "        vertical-align: middle;\n",
       "    }\n",
       "\n",
       "    .dataframe tbody tr th {\n",
       "        vertical-align: top;\n",
       "    }\n",
       "\n",
       "    .dataframe thead th {\n",
       "        text-align: right;\n",
       "    }\n",
       "</style>\n",
       "<table border=\"1\" class=\"dataframe\">\n",
       "  <thead>\n",
       "    <tr style=\"text-align: right;\">\n",
       "      <th></th>\n",
       "      <th>10 YR</th>\n",
       "    </tr>\n",
       "    <tr>\n",
       "      <th>Date</th>\n",
       "      <th></th>\n",
       "    </tr>\n",
       "  </thead>\n",
       "  <tbody>\n",
       "    <tr>\n",
       "      <th>1990-01-02</th>\n",
       "      <td>7.94</td>\n",
       "    </tr>\n",
       "    <tr>\n",
       "      <th>1990-01-03</th>\n",
       "      <td>7.99</td>\n",
       "    </tr>\n",
       "    <tr>\n",
       "      <th>1990-01-04</th>\n",
       "      <td>7.98</td>\n",
       "    </tr>\n",
       "    <tr>\n",
       "      <th>1990-01-05</th>\n",
       "      <td>7.99</td>\n",
       "    </tr>\n",
       "    <tr>\n",
       "      <th>1990-01-08</th>\n",
       "      <td>8.02</td>\n",
       "    </tr>\n",
       "    <tr>\n",
       "      <th>...</th>\n",
       "      <td>...</td>\n",
       "    </tr>\n",
       "    <tr>\n",
       "      <th>2021-07-07</th>\n",
       "      <td>1.33</td>\n",
       "    </tr>\n",
       "    <tr>\n",
       "      <th>2021-07-08</th>\n",
       "      <td>1.30</td>\n",
       "    </tr>\n",
       "    <tr>\n",
       "      <th>2021-07-09</th>\n",
       "      <td>1.37</td>\n",
       "    </tr>\n",
       "    <tr>\n",
       "      <th>2021-07-12</th>\n",
       "      <td>1.38</td>\n",
       "    </tr>\n",
       "    <tr>\n",
       "      <th>2021-07-13</th>\n",
       "      <td>1.42</td>\n",
       "    </tr>\n",
       "  </tbody>\n",
       "</table>\n",
       "<p>7889 rows × 1 columns</p>\n",
       "</div>"
      ],
      "text/plain": [
       "            10 YR\n",
       "Date             \n",
       "1990-01-02   7.94\n",
       "1990-01-03   7.99\n",
       "1990-01-04   7.98\n",
       "1990-01-05   7.99\n",
       "1990-01-08   8.02\n",
       "...           ...\n",
       "2021-07-07   1.33\n",
       "2021-07-08   1.30\n",
       "2021-07-09   1.37\n",
       "2021-07-12   1.38\n",
       "2021-07-13   1.42\n",
       "\n",
       "[7889 rows x 1 columns]"
      ]
     },
     "execution_count": 9,
     "metadata": {},
     "output_type": "execute_result"
    }
   ],
   "source": [
    "us_treasury"
   ]
  },
  {
   "cell_type": "code",
   "execution_count": 10,
   "metadata": {},
   "outputs": [
    {
     "data": {
      "text/html": [
       "<div>\n",
       "<style scoped>\n",
       "    .dataframe tbody tr th:only-of-type {\n",
       "        vertical-align: middle;\n",
       "    }\n",
       "\n",
       "    .dataframe tbody tr th {\n",
       "        vertical-align: top;\n",
       "    }\n",
       "\n",
       "    .dataframe thead th {\n",
       "        text-align: right;\n",
       "    }\n",
       "</style>\n",
       "<table border=\"1\" class=\"dataframe\">\n",
       "  <thead>\n",
       "    <tr style=\"text-align: right;\">\n",
       "      <th></th>\n",
       "      <th>Emerging Markets HYCBIY Value</th>\n",
       "    </tr>\n",
       "    <tr>\n",
       "      <th>DATE</th>\n",
       "      <th></th>\n",
       "    </tr>\n",
       "  </thead>\n",
       "  <tbody>\n",
       "    <tr>\n",
       "      <th>1998-12-31</th>\n",
       "      <td>14.92</td>\n",
       "    </tr>\n",
       "    <tr>\n",
       "      <th>1999-01-04</th>\n",
       "      <td>14.90</td>\n",
       "    </tr>\n",
       "    <tr>\n",
       "      <th>1999-01-05</th>\n",
       "      <td>14.89</td>\n",
       "    </tr>\n",
       "    <tr>\n",
       "      <th>1999-01-06</th>\n",
       "      <td>14.79</td>\n",
       "    </tr>\n",
       "    <tr>\n",
       "      <th>1999-01-07</th>\n",
       "      <td>14.78</td>\n",
       "    </tr>\n",
       "    <tr>\n",
       "      <th>...</th>\n",
       "      <td>...</td>\n",
       "    </tr>\n",
       "    <tr>\n",
       "      <th>2021-07-06</th>\n",
       "      <td>6.01</td>\n",
       "    </tr>\n",
       "    <tr>\n",
       "      <th>2021-07-07</th>\n",
       "      <td>5.99</td>\n",
       "    </tr>\n",
       "    <tr>\n",
       "      <th>2021-07-08</th>\n",
       "      <td>6.04</td>\n",
       "    </tr>\n",
       "    <tr>\n",
       "      <th>2021-07-09</th>\n",
       "      <td>6.04</td>\n",
       "    </tr>\n",
       "    <tr>\n",
       "      <th>2021-07-12</th>\n",
       "      <td>5.98</td>\n",
       "    </tr>\n",
       "  </tbody>\n",
       "</table>\n",
       "<p>5883 rows × 1 columns</p>\n",
       "</div>"
      ],
      "text/plain": [
       "            Emerging Markets HYCBIY Value\n",
       "DATE                                     \n",
       "1998-12-31                          14.92\n",
       "1999-01-04                          14.90\n",
       "1999-01-05                          14.89\n",
       "1999-01-06                          14.79\n",
       "1999-01-07                          14.78\n",
       "...                                   ...\n",
       "2021-07-06                           6.01\n",
       "2021-07-07                           5.99\n",
       "2021-07-08                           6.04\n",
       "2021-07-09                           6.04\n",
       "2021-07-12                           5.98\n",
       "\n",
       "[5883 rows x 1 columns]"
      ]
     },
     "execution_count": 10,
     "metadata": {},
     "output_type": "execute_result"
    }
   ],
   "source": [
    "personal_consumption_expenditures.rename(columns={\"Value\":\"PCE Value\"},inplace=True)\n",
    "gold.rename(columns={\"Value\":\"Gold Value\"},inplace=True)\n",
    "sp_500_inflation_adjusted.rename(columns={'Value':'SPY Value'},inplace=True)\n",
    "united_kingdom_spot_exchange_rate.rename(columns={'SPY Value':'USD/UK Value'},inplace=True)\n",
    "emerging_markets_high_yield_corporate_bond_index_yield.rename(columns = {'BAMLEMHBHYCRPIEY':'Emerging Markets HYCBIY Value'},inplace=True)\n",
    "emerging_markets_high_yield_corporate_bond_index_yield"
   ]
  },
  {
   "cell_type": "code",
   "execution_count": 16,
   "metadata": {},
   "outputs": [
    {
     "data": {
      "text/html": [
       "<div>\n",
       "<style scoped>\n",
       "    .dataframe tbody tr th:only-of-type {\n",
       "        vertical-align: middle;\n",
       "    }\n",
       "\n",
       "    .dataframe tbody tr th {\n",
       "        vertical-align: top;\n",
       "    }\n",
       "\n",
       "    .dataframe thead th {\n",
       "        text-align: right;\n",
       "    }\n",
       "</style>\n",
       "<table border=\"1\" class=\"dataframe\">\n",
       "  <thead>\n",
       "    <tr style=\"text-align: right;\">\n",
       "      <th></th>\n",
       "      <th>10 YR</th>\n",
       "      <th>USD (AM)</th>\n",
       "      <th>PCE Value</th>\n",
       "      <th>SPY Value</th>\n",
       "      <th>Value</th>\n",
       "      <th>LT Real Average (&gt;10Yrs)</th>\n",
       "      <th>Emerging Markets HYCBIY Value</th>\n",
       "    </tr>\n",
       "    <tr>\n",
       "      <th>Date</th>\n",
       "      <th></th>\n",
       "      <th></th>\n",
       "      <th></th>\n",
       "      <th></th>\n",
       "      <th></th>\n",
       "      <th></th>\n",
       "      <th></th>\n",
       "    </tr>\n",
       "  </thead>\n",
       "  <tbody>\n",
       "  </tbody>\n",
       "</table>\n",
       "</div>"
      ],
      "text/plain": [
       "Empty DataFrame\n",
       "Columns: [10 YR, USD (AM), PCE Value, SPY Value, Value, LT Real Average (>10Yrs), Emerging Markets HYCBIY Value]\n",
       "Index: []"
      ]
     },
     "execution_count": 16,
     "metadata": {},
     "output_type": "execute_result"
    }
   ],
   "source": [
    "df_all = pd.concat([us_treasury,gold,personal_consumption_expenditures,sp_500_inflation_adjusted,united_kingdom_spot_exchange_rate,\n",
    "                    us_treasury_long_term_rates,emerging_markets_high_yield_corporate_bond_index_yield], axis = 'columns', join = 'inner')\n",
    "df_all"
   ]
  },
  {
   "cell_type": "code",
   "execution_count": 12,
   "metadata": {},
   "outputs": [],
   "source": [
    "#stock_market_confidence_indices['Index Value'].plot(figsize = (10,10))\n",
    "#treasury_real_yield_curve_rates.plot(figsize = (10,10))\n",
    "#sp_500_inflation_adjusted.plot(figsize = (10,10))\n",
    "#personal_consumption_expenditures.plot(figsize = (10,10))\n",
    "#gold.plot(figsize = (10,10))\n",
    "#us_treasury_long_term_rates.plot(figsize = (10,10))\n",
    "#sp_500_inflation_adjusted.plot(figsize = (10,10))"
   ]
  },
  {
   "cell_type": "code",
   "execution_count": null,
   "metadata": {},
   "outputs": [],
   "source": [
    "personal_consumption_expenditures"
   ]
  },
  {
   "cell_type": "code",
   "execution_count": null,
   "metadata": {},
   "outputs": [],
   "source": [
    "test = pd.concat([us_treasury,gold,emerging_markets_high_yield_corporate_bond_index_yield,sp_500_inflation_adjusted,personal_consumption_expenditures],axis = 'columns', join = 'inner')\n",
    "test"
   ]
  },
  {
   "cell_type": "code",
   "execution_count": null,
   "metadata": {},
   "outputs": [],
   "source": [
    "test.plot()"
   ]
  },
  {
   "cell_type": "code",
   "execution_count": null,
   "metadata": {},
   "outputs": [],
   "source": []
  }
 ],
 "metadata": {
  "kernelspec": {
   "display_name": "Python 3",
   "language": "python",
   "name": "python3"
  },
  "language_info": {
   "codemirror_mode": {
    "name": "ipython",
    "version": 3
   },
   "file_extension": ".py",
   "mimetype": "text/x-python",
   "name": "python",
   "nbconvert_exporter": "python",
   "pygments_lexer": "ipython3",
   "version": "3.7.9"
  }
 },
 "nbformat": 4,
 "nbformat_minor": 4
}
