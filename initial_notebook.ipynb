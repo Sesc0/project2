{
 "cells": [
  {
   "cell_type": "code",
   "execution_count": 3,
   "metadata": {},
   "outputs": [],
   "source": [
    "import pandas as pd\n",
    "import quandl"
   ]
  },
  {
   "cell_type": "code",
   "execution_count": 5,
   "metadata": {},
   "outputs": [],
   "source": [
    "stock_market_confidence_indices = quandl.get(\"YALE/US_CONF_INDEX_CRASH_INST\")\n",
    "us_treasury_long_term_rates = quandl.get(\"USTREASURY/REALLONGTERM\", authtoken=\"yJcjsffiR2vsG79sQqj1\")\n",
    "emerging_markets_high_yield_corporate_bond_index_yield = quandl.get(\"ML/EMHYY\", authtoken=\"yJcjsffiR2vsG79sQqj1\")\n",
    "united_kingdom_spot_exchange_rate = quandl.get(\"FED/RXI_US_N_A_UK\", authtoken=\"yJcjsffiR2vsG79sQqj1\")\n",
    "dji = quandl.get(\"BCB/UDJIAD1\")\n",
    "treasury_real_yield_curve_rates = quandl.get(\"USTREASURY/REALYIELD\", authtoken=\"yJcjsffiR2vsG79sQqj1\")\n",
    "sp_500_inflation_adjusted = quandl.get(\"MULTPL/SP500_INFLADJ_MONTH\", authtoken=\"yJcjsffiR2vsG79sQqj1\")\n",
    "personal_consumption_expenditures = quandl.get(\"FRED/PCE\")\n",
    "gold = quandl.get(\"BOE/XUMAGPD\")\n"
   ]
  },
  {
   "cell_type": "code",
   "execution_count": 6,
   "metadata": {},
   "outputs": [
    {
     "data": {
      "text/html": [
       "<div>\n",
       "<style scoped>\n",
       "    .dataframe tbody tr th:only-of-type {\n",
       "        vertical-align: middle;\n",
       "    }\n",
       "\n",
       "    .dataframe tbody tr th {\n",
       "        vertical-align: top;\n",
       "    }\n",
       "\n",
       "    .dataframe thead th {\n",
       "        text-align: right;\n",
       "    }\n",
       "</style>\n",
       "<table border=\"1\" class=\"dataframe\">\n",
       "  <thead>\n",
       "    <tr style=\"text-align: right;\">\n",
       "      <th></th>\n",
       "      <th>Value</th>\n",
       "    </tr>\n",
       "    <tr>\n",
       "      <th>Date</th>\n",
       "      <th></th>\n",
       "    </tr>\n",
       "  </thead>\n",
       "  <tbody>\n",
       "    <tr>\n",
       "      <th>1979-01-31</th>\n",
       "      <td>227.2795</td>\n",
       "    </tr>\n",
       "    <tr>\n",
       "      <th>1979-02-28</th>\n",
       "      <td>245.6500</td>\n",
       "    </tr>\n",
       "    <tr>\n",
       "      <th>1979-03-31</th>\n",
       "      <td>241.9864</td>\n",
       "    </tr>\n",
       "    <tr>\n",
       "      <th>1979-04-30</th>\n",
       "      <td>239.1605</td>\n",
       "    </tr>\n",
       "    <tr>\n",
       "      <th>1979-05-31</th>\n",
       "      <td>257.3095</td>\n",
       "    </tr>\n",
       "    <tr>\n",
       "      <th>...</th>\n",
       "      <td>...</td>\n",
       "    </tr>\n",
       "    <tr>\n",
       "      <th>2016-12-31</th>\n",
       "      <td>1150.1250</td>\n",
       "    </tr>\n",
       "    <tr>\n",
       "      <th>2017-01-31</th>\n",
       "      <td>1192.6167</td>\n",
       "    </tr>\n",
       "    <tr>\n",
       "      <th>2017-02-28</th>\n",
       "      <td>1234.3575</td>\n",
       "    </tr>\n",
       "    <tr>\n",
       "      <th>2017-03-31</th>\n",
       "      <td>1231.0935</td>\n",
       "    </tr>\n",
       "    <tr>\n",
       "      <th>2017-04-30</th>\n",
       "      <td>1265.6278</td>\n",
       "    </tr>\n",
       "  </tbody>\n",
       "</table>\n",
       "<p>460 rows × 1 columns</p>\n",
       "</div>"
      ],
      "text/plain": [
       "                Value\n",
       "Date                 \n",
       "1979-01-31   227.2795\n",
       "1979-02-28   245.6500\n",
       "1979-03-31   241.9864\n",
       "1979-04-30   239.1605\n",
       "1979-05-31   257.3095\n",
       "...               ...\n",
       "2016-12-31  1150.1250\n",
       "2017-01-31  1192.6167\n",
       "2017-02-28  1234.3575\n",
       "2017-03-31  1231.0935\n",
       "2017-04-30  1265.6278\n",
       "\n",
       "[460 rows x 1 columns]"
      ]
     },
     "execution_count": 6,
     "metadata": {},
     "output_type": "execute_result"
    }
   ],
   "source": [
    "gold"
   ]
  },
  {
   "cell_type": "code",
   "execution_count": 35,
   "metadata": {},
   "outputs": [
    {
     "data": {
      "text/html": [
       "<div>\n",
       "<style scoped>\n",
       "    .dataframe tbody tr th:only-of-type {\n",
       "        vertical-align: middle;\n",
       "    }\n",
       "\n",
       "    .dataframe tbody tr th {\n",
       "        vertical-align: top;\n",
       "    }\n",
       "\n",
       "    .dataframe thead th {\n",
       "        text-align: right;\n",
       "    }\n",
       "</style>\n",
       "<table border=\"1\" class=\"dataframe\">\n",
       "  <thead>\n",
       "    <tr style=\"text-align: right;\">\n",
       "      <th></th>\n",
       "      <th>Index Value</th>\n",
       "      <th>Standard Error</th>\n",
       "      <th>LT Real Average (&gt;10Yrs)</th>\n",
       "    </tr>\n",
       "    <tr>\n",
       "      <th>Date</th>\n",
       "      <th></th>\n",
       "      <th></th>\n",
       "      <th></th>\n",
       "    </tr>\n",
       "  </thead>\n",
       "  <tbody>\n",
       "    <tr>\n",
       "      <th>1989-10-31</th>\n",
       "      <td>36.99</td>\n",
       "      <td>4.00</td>\n",
       "      <td>NaN</td>\n",
       "    </tr>\n",
       "    <tr>\n",
       "      <th>1990-04-30</th>\n",
       "      <td>25.76</td>\n",
       "      <td>3.81</td>\n",
       "      <td>NaN</td>\n",
       "    </tr>\n",
       "    <tr>\n",
       "      <th>1990-10-31</th>\n",
       "      <td>18.25</td>\n",
       "      <td>3.30</td>\n",
       "      <td>NaN</td>\n",
       "    </tr>\n",
       "    <tr>\n",
       "      <th>1991-04-30</th>\n",
       "      <td>31.58</td>\n",
       "      <td>4.03</td>\n",
       "      <td>NaN</td>\n",
       "    </tr>\n",
       "    <tr>\n",
       "      <th>1991-10-31</th>\n",
       "      <td>37.18</td>\n",
       "      <td>3.87</td>\n",
       "      <td>NaN</td>\n",
       "    </tr>\n",
       "    <tr>\n",
       "      <th>...</th>\n",
       "      <td>...</td>\n",
       "      <td>...</td>\n",
       "      <td>...</td>\n",
       "    </tr>\n",
       "    <tr>\n",
       "      <th>2021-06-28</th>\n",
       "      <td>NaN</td>\n",
       "      <td>NaN</td>\n",
       "      <td>-0.28</td>\n",
       "    </tr>\n",
       "    <tr>\n",
       "      <th>2021-06-29</th>\n",
       "      <td>NaN</td>\n",
       "      <td>NaN</td>\n",
       "      <td>-0.27</td>\n",
       "    </tr>\n",
       "    <tr>\n",
       "      <th>2021-06-30</th>\n",
       "      <td>NaN</td>\n",
       "      <td>NaN</td>\n",
       "      <td>-0.30</td>\n",
       "    </tr>\n",
       "    <tr>\n",
       "      <th>2021-07-01</th>\n",
       "      <td>NaN</td>\n",
       "      <td>NaN</td>\n",
       "      <td>-0.30</td>\n",
       "    </tr>\n",
       "    <tr>\n",
       "      <th>2021-07-02</th>\n",
       "      <td>NaN</td>\n",
       "      <td>NaN</td>\n",
       "      <td>-0.32</td>\n",
       "    </tr>\n",
       "  </tbody>\n",
       "</table>\n",
       "<p>5643 rows × 3 columns</p>\n",
       "</div>"
      ],
      "text/plain": [
       "            Index Value  Standard Error  LT Real Average (>10Yrs)\n",
       "Date                                                             \n",
       "1989-10-31        36.99            4.00                       NaN\n",
       "1990-04-30        25.76            3.81                       NaN\n",
       "1990-10-31        18.25            3.30                       NaN\n",
       "1991-04-30        31.58            4.03                       NaN\n",
       "1991-10-31        37.18            3.87                       NaN\n",
       "...                 ...             ...                       ...\n",
       "2021-06-28          NaN             NaN                     -0.28\n",
       "2021-06-29          NaN             NaN                     -0.27\n",
       "2021-06-30          NaN             NaN                     -0.30\n",
       "2021-07-01          NaN             NaN                     -0.30\n",
       "2021-07-02          NaN             NaN                     -0.32\n",
       "\n",
       "[5643 rows x 3 columns]"
      ]
     },
     "execution_count": 35,
     "metadata": {},
     "output_type": "execute_result"
    }
   ],
   "source": [
    "df = pd.concat([stock_market_confidence_indices,us_treasury_long_term_rates])\n",
    "df"
   ]
  },
  {
   "cell_type": "code",
   "execution_count": 1,
   "metadata": {},
   "outputs": [
    {
     "data": {
      "text/plain": [
       "'personal_consumption_expenditures'"
      ]
     },
     "execution_count": 1,
     "metadata": {},
     "output_type": "execute_result"
    }
   ],
   "source": [
    "p = \"Personal Consumption Expenditures\".replace(\" \",\"_\").lower()\n",
    "p"
   ]
  },
  {
   "cell_type": "code",
   "execution_count": 11,
   "metadata": {},
   "outputs": [
    {
     "data": {
      "text/plain": [
       "'emerging_markets_high_yield_corporate_bond_index_yield'"
      ]
     },
     "execution_count": 11,
     "metadata": {},
     "output_type": "execute_result"
    }
   ],
   "source": [
    "p"
   ]
  },
  {
   "cell_type": "code",
   "execution_count": null,
   "metadata": {},
   "outputs": [],
   "source": []
  }
 ],
 "metadata": {
  "kernelspec": {
   "display_name": "Python 3",
   "language": "python",
   "name": "python3"
  },
  "language_info": {
   "codemirror_mode": {
    "name": "ipython",
    "version": 3
   },
   "file_extension": ".py",
   "mimetype": "text/x-python",
   "name": "python",
   "nbconvert_exporter": "python",
   "pygments_lexer": "ipython3",
   "version": "3.7.9"
  }
 },
 "nbformat": 4,
 "nbformat_minor": 4
}
